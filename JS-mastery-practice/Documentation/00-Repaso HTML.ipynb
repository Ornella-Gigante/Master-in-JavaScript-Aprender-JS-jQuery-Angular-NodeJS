{
 "cells": [
  {
   "cell_type": "markdown",
   "id": "34b293f1-a188-480e-b2a8-93e19417b3da",
   "metadata": {},
   "source": [
    "# Es importante tener conocimientos previos de HTML antes de pasar a Javascript \n",
    "\n",
    "## ¿Qué se verá en este repaso? \n",
    "\n",
    "\n",
    "1. Qué es HTML y una etiqueta\n",
    "2. Estructura HTML\n",
    "3. Etiquetas de texto\n",
    "4. Listas\n",
    "5. Imágenes\n",
    "6. Tablas\n",
    "7. Formularios\n",
    "8. Ejercicio completo\n",
    "9. Pasamos a Javascript "
   ]
  },
  {
   "cell_type": "markdown",
   "id": "b22832fc-7283-489f-a4a4-d8f36a1dfc8e",
   "metadata": {},
   "source": [
    "# HTML (HyperText Markup Language)\n",
    "\n",
    "## ¿Qué es?\n",
    "\n",
    "- HTML es el lenguaje básico de la web. Es como los cimientos de una casa, es decir, la estructura fundamental de cualquier página web.\n",
    "\n",
    "## ¿Para qué sirve? \n",
    "\n",
    "- HTML se utiliza para crear y estructurar el contenido de una página web. Esto incluye elementos como títulos, párrafos, imágenes, enlaces, listas, y otros componentes que forman la página.\n",
    "\n",
    "- Por ejemplo, cuando ves un título grande en una página web, un párrafo de texto o una imagen, todo eso está definido con HTML. Es el lenguaje que le dice al navegador qué mostrar.\n",
    "\n",
    "---\n",
    "\n",
    "## CSS (Cascading Style Sheets)\n",
    "\n",
    "- ¿Qué es? CSS es un lenguaje que se usa para diseñar y darle estilo a una página web. Si HTML es la estructura de la casa, CSS es como la pintura, la decoración y los muebles.\n",
    "\n",
    "## ¿Para qué sirve? \n",
    "\n",
    "- CSS se utiliza para controlar cómo se ve el contenido que está definido en HTML. Puedes cambiar colores, tamaños, fuentes, márgenes, y básicamente todo lo relacionado con la apariencia visual de la página.\n",
    "\n",
    "- Por ejemplo, si quieres que un título sea azul, que un botón tenga un fondo rojo o que una imagen tenga un borde, utilizas CSS para hacer esos cambios.\n",
    "\n",
    "--- \n",
    "\n",
    "### En resumen:\n",
    "\n",
    "- HTML es el lenguaje que estructura y organiza el contenido de una página web.\n",
    "- CSS es el lenguaje que se encarga de la apariencia y el diseño de esa página.\n",
    "- Trabajando juntos, HTML y CSS permiten crear páginas web que no solo tienen contenido, sino que también son visualmente atractivas."
   ]
  },
  {
   "cell_type": "code",
   "execution_count": null,
   "id": "cbbfb4d6-0dda-44b5-bc4e-0702df9178b6",
   "metadata": {},
   "outputs": [],
   "source": []
  }
 ],
 "metadata": {
  "kernelspec": {
   "display_name": "Python 3 (ipykernel)",
   "language": "python",
   "name": "python3"
  },
  "language_info": {
   "codemirror_mode": {
    "name": "ipython",
    "version": 3
   },
   "file_extension": ".py",
   "mimetype": "text/x-python",
   "name": "python",
   "nbconvert_exporter": "python",
   "pygments_lexer": "ipython3",
   "version": "3.11.9"
  }
 },
 "nbformat": 4,
 "nbformat_minor": 5
}
