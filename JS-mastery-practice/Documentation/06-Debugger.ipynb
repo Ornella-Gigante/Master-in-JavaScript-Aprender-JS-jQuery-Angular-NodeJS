{
 "cells": [
  {
   "cell_type": "markdown",
   "id": "15eacbc7-e464-49c3-9c30-cdc3e3bf66aa",
   "metadata": {},
   "source": [
    "\n",
    "# ¿Qué es un debugger? \n",
    "\n",
    "Un debugger es una herramienta que te ayuda a encontrar y corregir errores en tu código. En JavaScript, cuando usas la palabra clave debugger, estás indicando al navegador que se detenga en ese punto del código para que puedas inspeccionar lo que está sucediendo. Es como poner una pausa en una película para revisar qué está pasando en ese momento.\n",
    "\n",
    "  \n",
    "        Copiar código\n",
    "        var numero = 100;\n",
    "        \n",
    "        for (var i = 0; i < numero; i++) {\n",
    "            console.log(\"Vamos por el numero: \" + i);\n",
    "            debugger;\n",
    "        }\n",
    "\n",
    "\n",
    "        \n",
    "- Variable numero: Tienes una variable numero que tiene el valor 100.\n",
    "- Bucle for: El bucle for empieza en 0 (i=0) y va aumentando hasta llegar a 99 (i < numero). Dentro del bucle, el código imprime en la consola el número actual (i).\n",
    "- debugger: Cada vez que el bucle da una vuelta, se encuentra con la palabra debugger. Cuando esto pasa, el navegador se detiene en esa línea del código. Esto te permite ver el valor de las variables, revisar cómo está funcionando el bucle, y verificar si todo está bien o si hay algún error.\n",
    "\n",
    "### ¿Cómo se usa?\n",
    "\n",
    "        \n",
    "        Al ejecutar este código en un navegador, el código se detendrá en la línea del debugger.\n",
    "        Puedes abrir las herramientas de desarrollador (normalmente con F12 o Ctrl+Shift+I) y ver cómo se comporta el código paso a paso.\n",
    "        Esto te permite entender mejor lo que hace el programa y solucionar problemas si los hay.\n",
    "        En resumen, el debugger te permite \"pausar\" tu programa para inspeccionarlo y asegurarte de que todo está funcionando como esperas.\n",
    "\n",
    "\n",
    "\n",
    "\n",
    "\n",
    "\n",
    "\n"
   ]
  },
  {
   "cell_type": "code",
   "execution_count": null,
   "id": "6ed81c2c-1f7b-4055-9bb9-da5e3da49ad5",
   "metadata": {},
   "outputs": [],
   "source": []
  }
 ],
 "metadata": {
  "kernelspec": {
   "display_name": "Python 3 (ipykernel)",
   "language": "python",
   "name": "python3"
  },
  "language_info": {
   "codemirror_mode": {
    "name": "ipython",
    "version": 3
   },
   "file_extension": ".py",
   "mimetype": "text/x-python",
   "name": "python",
   "nbconvert_exporter": "python",
   "pygments_lexer": "ipython3",
   "version": "3.11.9"
  }
 },
 "nbformat": 4,
 "nbformat_minor": 5
}
