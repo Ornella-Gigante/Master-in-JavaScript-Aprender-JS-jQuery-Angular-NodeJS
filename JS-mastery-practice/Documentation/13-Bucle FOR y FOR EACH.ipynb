{
 "cells": [
  {
   "cell_type": "markdown",
   "id": "db249094-d95b-49f1-a90f-d6da397be9c9",
   "metadata": {},
   "source": [
    "# Bucle FOR\n",
    "\n",
    "## `for` en JavaScript\n",
    "\n",
    "- El ciclo `for` se usa cuando sabes cuántas veces necesitas repetir un bloque de código.\n",
    "- Tiene tres partes: inicialización, condición y actualización.\n",
    "\n",
    "### Sintaxis del ciclo `for`:\n",
    "\n",
    "        // Imprimir los números del 1 al 5\n",
    "        for (let i = 1; i <= 5; i++) {\n",
    "          console.log(i);\n",
    "        }\n"
   ]
  },
  {
   "cell_type": "markdown",
   "id": "e5a10a73-5593-4aaa-8cd9-67eaae086236",
   "metadata": {},
   "source": [
    "# forEach\n",
    "\n",
    "- El método forEach() es una función propia de los arrays que ejecuta una función para cada elemento del array.\n",
    "- Es más fácil de usar cuando trabajas con arrays.\n",
    "\n",
    "## Sintaxis del forEach:\n",
    "        \n",
    "        array.forEach(function(elemento, indice, array) {\n",
    "          // Código que se ejecuta por cada elemento\n",
    "        });\n",
    "\n",
    "## Ejemplo de forEach:\n",
    "        \n",
    "        let frutas = [\"manzana\", \"banana\", \"naranja\"];\n",
    "        \n",
    "        // Usar forEach para imprimir cada fruta\n",
    "        frutas.forEach(function(fruta) {\n",
    "          console.log(fruta);\n",
    "        });\n",
    "        \n",
    "        // Resultado:\n",
    "        // manzana\n",
    "        // banana\n",
    "        // naranja"
   ]
  },
  {
   "cell_type": "markdown",
   "id": "91db29bc-53d4-4555-851b-8c9a79c7bf03",
   "metadata": {},
   "source": [
    "# Comparación entre for y forEach\n",
    "\n",
    "###  Usando for para recorrer un array:\n",
    "        \n",
    "        let numeros = [10, 20, 30, 40];\n",
    "        \n",
    "        // Usar for para recorrer el array\n",
    "        for (let i = 0; i < numeros.length; i++) {\n",
    "          console.log(numeros[i]);\n",
    "        }\n",
    "        \n",
    "        // Resultado:\n",
    "        // 10\n",
    "        // 20\n",
    "        // 30\n",
    "        // 40\n",
    "\n",
    "\n",
    "### Usando forEach para recorrer un array:\n",
    "\n",
    "        let numeros = [10, 20, 30, 40];\n",
    "        \n",
    "        // Usar forEach para recorrer el array\n",
    "        numeros.forEach(function(numero) {\n",
    "          console.log(numero);\n",
    "        });\n",
    "        \n",
    "        // Resultado:\n",
    "        // 10\n",
    "        // 20\n",
    "        // 30\n",
    "        // 40\n",
    "\n",
    "        \n",
    "### Diferencias clave:\n",
    "\n",
    "- for te da más control sobre la iteración, ya que puedes definir cuándo empieza y cuándo termina.\n",
    "- forEach es más fácil y limpio de usar cuando ya tienes un array y solo necesitas hacer algo con cada uno de sus elementos.\n"
   ]
  }
 ],
 "metadata": {
  "kernelspec": {
   "display_name": "Python 3 (ipykernel)",
   "language": "python",
   "name": "python3"
  },
  "language_info": {
   "codemirror_mode": {
    "name": "ipython",
    "version": 3
   },
   "file_extension": ".py",
   "mimetype": "text/x-python",
   "name": "python",
   "nbconvert_exporter": "python",
   "pygments_lexer": "ipython3",
   "version": "3.11.9"
  }
 },
 "nbformat": 4,
 "nbformat_minor": 5
}
