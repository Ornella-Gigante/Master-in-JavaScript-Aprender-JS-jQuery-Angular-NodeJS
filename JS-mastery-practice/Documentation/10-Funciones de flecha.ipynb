{
 "cells": [
  {
   "cell_type": "markdown",
   "id": "47955e11-29d1-4ad0-82da-05217fb4a26a",
   "metadata": {},
   "source": [
    "# ¿Qué es una función flecha? \n",
    "\n",
    "\n",
    "- Las funciones flecha (o arrow functions) en JavaScript son una forma más corta y moderna de escribir funciones.\n",
    "- Fueron introducidas en ECMAScript 6 (ES6) y ofrecen una sintaxis más concisa, especialmente útil para funciones pequeñas.\n",
    "\n",
    "## Características de las funciones flecha:\n",
    "\n",
    "- Sintaxis más corta: No necesitas usar la palabra clave function.\n",
    "- No tienen su propio this: Esto significa que el valor de this dentro de una función flecha se refiere al contexto donde fue creada, no al contexto de la función en sí.\n",
    "- No se pueden usar como constructores: No puedes usar funciones flecha con new para crear objetos.\n",
    "- No tienen arguments: No puedes usar el objeto arguments dentro de una función flecha."
   ]
  },
  {
   "cell_type": "markdown",
   "id": "d5b2f6fa-e598-4d30-bac3-2f09d08a917b",
   "metadata": {},
   "source": [
    "# Sintaxis de una función flecha:\n",
    "        \n",
    "        const nombreFuncion = (parametros) => {\n",
    "            // Cuerpo de la función\n",
    "            return resultado; // opcional\n",
    "        };\n",
    "\n",
    "## Ejemplos:\n",
    "\n",
    "1. **Función flecha simple**:\n",
    "Aquí hay un ejemplo de una función flecha que suma dos números:\n",
    "\n",
    "        \n",
    "        const sumar = (a, b) => {\n",
    "            return a + b;\n",
    "        };\n",
    "\n",
    "\n",
    "        // Usando la función\n",
    "        console.log(sumar(5, 3)); // Salida: 8\n",
    "   \n",
    "3. **Sintaxis más corta para funciones de una línea**:\n",
    "Si tu función solo tiene una línea de código y está devolviendo un valor, puedes omitir las llaves {} y la palabra return:\n",
    "\n",
    "        \n",
    "        const sumar = (a, b) => a + b;\n",
    "        \n",
    "        // Usando la función\n",
    "        console.log(sumar(5, 3)); // Salida: 8\n",
    "\n",
    "\n",
    "3. **Sin parámetros**:\n",
    "Si no necesitas parámetros, puedes escribirlo así:\n",
    "\n",
    "        \n",
    "        const saludar = () => console.log(\"¡Hola, mundo!\");\n",
    "        \n",
    "        // Usando la función\n",
    "        saludar(); // Salida: ¡Hola, mundo!\n",
    "   \n",
    "5. **Un solo parámetro**:\n",
    "Si solo tienes un parámetro, puedes omitir los paréntesis:\n",
    "\n",
    "\n",
    "        const cuadrado = x => x * x;\n",
    "        \n",
    "        // Usando la función\n",
    "        console.log(cuadrado(4)); // Salida: 16\n",
    "\n",
    "### Resumen:\n",
    "Las funciones flecha son una forma más sencilla y moderna de escribir funciones en JavaScript. Su sintaxis más corta y el manejo especial de this las hacen muy útiles, especialmente en situaciones donde se requieren funciones pequeñas y rápidas, como callbacks en métodos de array (por ejemplo, map, filter, reduce)."
   ]
  },
  {
   "cell_type": "code",
   "execution_count": null,
   "id": "d0cf22eb-ef73-461b-be38-a9154e04a2d3",
   "metadata": {},
   "outputs": [],
   "source": []
  }
 ],
 "metadata": {
  "kernelspec": {
   "display_name": "Python 3 (ipykernel)",
   "language": "python",
   "name": "python3"
  },
  "language_info": {
   "codemirror_mode": {
    "name": "ipython",
    "version": 3
   },
   "file_extension": ".py",
   "mimetype": "text/x-python",
   "name": "python",
   "nbconvert_exporter": "python",
   "pygments_lexer": "ipython3",
   "version": "3.11.9"
  }
 },
 "nbformat": 4,
 "nbformat_minor": 5
}
