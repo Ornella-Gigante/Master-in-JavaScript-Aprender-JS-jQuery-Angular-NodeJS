{
 "cells": [
  {
   "cell_type": "markdown",
   "id": "e584a2fb-56aa-40d8-90ce-ab7c19d5027b",
   "metadata": {},
   "source": [
    "# ¿Qué es una función anónima? \n",
    "\n",
    "- Una función anónima es una función que no tiene un nombre explícito. \n",
    "- Normalmente se usa cuando necesitas una función rápida, de una sola vez, y no la vas a reutilizar en otro lugar. \n",
    "- Las funciones anónimas suelen utilizarse como callbacks, peor NO SON callbacks per se. "
   ]
  },
  {
   "cell_type": "code",
   "execution_count": 12,
   "id": "8432cb6e-a68c-4c25-92a5-5aefd7456b3f",
   "metadata": {},
   "outputs": [
    {
     "name": "stdout",
     "output_type": "stream",
     "text": [
      "10\n"
     ]
    }
   ],
   "source": [
    "# Ejemplo \n",
    "\n",
    "# Definimos una función que toma otra función como argumento\n",
    "def aplicar_funcion(funcion, valor):\n",
    "    return funcion(valor)\n",
    "\n",
    "# Usamos una función anónima (lambda, es decir, una función rápida) para doblar un número\n",
    "resultado = aplicar_funcion(lambda x: x * 2, 5)\n",
    "\n",
    "print(resultado)  # Salida: 10\n"
   ]
  },
  {
   "cell_type": "markdown",
   "id": "d29d7023-dc21-4025-9773-c1592f4c14ee",
   "metadata": {},
   "source": [
    "# ¿Qué es un callback? \n",
    "\n",
    "- Un callback en JavaScript es simplemente una función que se pasa como argumento a otra función y se ejecuta después de que esa función ha terminado su trabajo.\n",
    "- Es como decirle a una función: \"Cuando termines, llama a esta otra función\"."
   ]
  },
  {
   "cell_type": "code",
   "execution_count": 10,
   "id": "aa779b06-4814-4b04-94c4-860aa348c2c9",
   "metadata": {},
   "outputs": [
    {
     "name": "stdin",
     "output_type": "stream",
     "text": [
      "Por favor, ingresa tu nombre:  Ornella\n"
     ]
    },
    {
     "name": "stdout",
     "output_type": "stream",
     "text": [
      "Hola, Ornella!\n"
     ]
    }
   ],
   "source": [
    "#Ejemplo de callback \n",
    "\n",
    "def saludo(nombre):\n",
    "    print(f\"Hola, {nombre}!\")\n",
    "\n",
    "def procesar_entrada_usuario(callback):\n",
    "    nombre = input(\"Por favor, ingresa tu nombre: \")\n",
    "    callback(nombre)  # Llamamos a la función callback\n",
    "\n",
    "# Pasamos la función 'saludo' como callback\n",
    "procesar_entrada_usuario(saludo)\n"
   ]
  }
 ],
 "metadata": {
  "kernelspec": {
   "display_name": "Python 3 (ipykernel)",
   "language": "python",
   "name": "python3"
  },
  "language_info": {
   "codemirror_mode": {
    "name": "ipython",
    "version": 3
   },
   "file_extension": ".py",
   "mimetype": "text/x-python",
   "name": "python",
   "nbconvert_exporter": "python",
   "pygments_lexer": "ipython3",
   "version": "3.11.9"
  }
 },
 "nbformat": 4,
 "nbformat_minor": 5
}
