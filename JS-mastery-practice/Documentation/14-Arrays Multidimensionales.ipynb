{
 "cells": [
  {
   "cell_type": "markdown",
   "id": "eafaab23-886f-430e-901e-96025af53e16",
   "metadata": {},
   "source": [
    "# ¿Qué es un Array Multidimensional?\n",
    "\n",
    "- Un **array multidimensional** es un array que contiene **otros arrays** como elementos. \n",
    "- Es como una tabla o una matriz en la que cada fila es un array.\n",
    "\n",
    "- En lugar de tener una sola lista de elementos, un array multidimensional puede tener varias listas anidadas dentro de él. \n",
    "\n",
    "- Esto es útil para representar estructuras de datos complejas como **tablas**, **matrices**, o **tableros** de juegos, donde cada posición puede contener un conjunto de valores.\n",
    "\n",
    "## Ejemplo de un Array Multidimensional en JavaScript:\n",
    "\n",
    "\n",
    "        // Definir un array multidimensional (matriz de 3x3)\n",
    "        let matriz = [\n",
    "          [1, 2, 3],\n",
    "          [4, 5, 6],\n",
    "          [7, 8, 9]\n",
    "        ];\n",
    "\n",
    "        // Acceder a un elemento de la matriz\n",
    "        console.log(matriz[0][0]); // Resultado: 1\n",
    "        console.log(matriz[1][2]); // Resultado: 6\n"
   ]
  }
 ],
 "metadata": {
  "kernelspec": {
   "display_name": "Python 3 (ipykernel)",
   "language": "python",
   "name": "python3"
  },
  "language_info": {
   "codemirror_mode": {
    "name": "ipython",
    "version": 3
   },
   "file_extension": ".py",
   "mimetype": "text/x-python",
   "name": "python",
   "nbconvert_exporter": "python",
   "pygments_lexer": "ipython3",
   "version": "3.11.9"
  }
 },
 "nbformat": 4,
 "nbformat_minor": 5
}
