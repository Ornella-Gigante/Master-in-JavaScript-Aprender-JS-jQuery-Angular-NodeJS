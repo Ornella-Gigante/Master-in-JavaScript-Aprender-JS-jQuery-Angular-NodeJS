{
 "cells": [
  {
   "cell_type": "markdown",
   "id": "51170fb6-95df-4b8b-9605-cedb3a908ea1",
   "metadata": {},
   "source": [
    "\n",
    "# Arrays, Arreglos y Matrices \n",
    "\n",
    "\n",
    "- En JavaScript, los arrays (o arreglos) y matrices son estructuras de datos que te permiten almacenar múltiples valores bajo una misma variable. Aquí te explico cada uno y te doy ejemplos en formato de Markdown Magic para Jupyter Notebook.\n",
    "\n",
    "## Array (Arreglo)\n",
    "\n",
    "- Un array es una lista ordenada de elementos (cualquier tipo de datos como números, cadenas, objetos, etc.). Los arrays en JavaScript pueden contener cualquier tipo de dato, y se accede a ellos usando índices numéricos.\n",
    "\n",
    "- Ejemplo:\n",
    "\n",
    "        // Definiendo un array\n",
    "        let numeros = [1, 2, 3, 4, 5];\n",
    "        \n",
    "        // Accediendo a un valor del array\n",
    "        console.log(numeros[0]); // 1\n",
    "        \n",
    "        // Modificando un valor en el array\n",
    "        numeros[2] = 100;\n",
    "        console.log(numeros); // [1, 2, 100, 4, 5]\n",
    "\n",
    "\n",
    "## Arreglo\n",
    "\n",
    "- En español, el término arreglo es sinónimo de array, ya que ambos se refieren a la misma estructura de datos en JavaScript.\n",
    "\n",
    "- Ejemplo:\n",
    "        \n",
    "        // Arreglo de cadenas de texto\n",
    "        let frutas = [\"manzana\", \"banana\", \"naranja\"];\n",
    "        \n",
    "        // Agregar un nuevo elemento al arreglo\n",
    "        frutas.push(\"uva\");\n",
    "        console.log(frutas); // [\"manzana\", \"banana\", \"naranja\", \"uva\"]\n",
    "\n",
    "  \n",
    "## Matriz\n",
    "\n",
    "- Una matriz es un array de arrays, o un arreglo bidimensional. Se usa para almacenar datos en forma de tabla (filas y columnas).\n",
    "\n",
    "- Ejemplo:\n",
    "\n",
    "        // Definiendo una matriz (array bidimensional)\n",
    "        let matriz = [\n",
    "          [1, 2, 3],\n",
    "          [4, 5, 6],\n",
    "          [7, 8, 9]\n",
    "        ];\n",
    "        \n",
    "        // Accediendo a un valor en la matriz\n",
    "        console.log(matriz[1][2]); // 6 (fila 1, columna 2)\n",
    "  \n",
    "## Resumen\n",
    "\n",
    "- Un array o arreglo es una lista de elementos.\n",
    "- Una matriz es un array que contiene arrays, útil para representar datos en varias dimensiones, como una tabla.\n",
    "\n",
    "\n"
   ]
  },
  {
   "cell_type": "code",
   "execution_count": null,
   "id": "e750aca0-4aab-4831-8a3e-036f7c480f57",
   "metadata": {},
   "outputs": [],
   "source": []
  }
 ],
 "metadata": {
  "kernelspec": {
   "display_name": "Python 3 (ipykernel)",
   "language": "python",
   "name": "python3"
  },
  "language_info": {
   "codemirror_mode": {
    "name": "ipython",
    "version": 3
   },
   "file_extension": ".py",
   "mimetype": "text/x-python",
   "name": "python",
   "nbconvert_exporter": "python",
   "pygments_lexer": "ipython3",
   "version": "3.11.9"
  }
 },
 "nbformat": 4,
 "nbformat_minor": 5
}
